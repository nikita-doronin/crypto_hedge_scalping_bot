{
 "cells": [
  {
   "cell_type": "markdown",
   "metadata": {},
   "source": [
    "### Set up the credentials \n",
    "\n",
    "This cript is needed to store locally the credentials below for future\\\n",
    "trading so we don't store them in the github repository of security reason.\n",
    "\n",
    "\n",
    "**Exchange API Keys:**\n",
    "- api_key\n",
    "- api_secret\n",
    "\n",
    "**Your telegram bot:**\n",
    "- telegram_token_id\n",
    "- telegram_chat_id\n",
    "\n",
    "**Your SQL Database:**\n",
    "- sql_host\n",
    "- sql_user\n",
    "- sql_password\n",
    "- sql_database_name"
   ]
  },
  {
   "cell_type": "code",
   "execution_count": null,
   "metadata": {},
   "outputs": [],
   "source": [
    "# importing the keyring library that allows to store credentials\n",
    "import keyring as kr "
   ]
  },
  {
   "cell_type": "code",
   "execution_count": null,
   "metadata": {},
   "outputs": [],
   "source": [
    "# Defining the lists for the credentials:\n",
    "exchange_list = ['api_key','api_secret']\n",
    "telegram_list = ['telegram_chat_id','telegram_token_id']\n",
    "sql_list = ['sql_host','sql_user','sql_password','sql_database_name']"
   ]
  },
  {
   "cell_type": "code",
   "execution_count": null,
   "metadata": {},
   "outputs": [],
   "source": [
    "# Storing the Exchange credentials:\n",
    "print('\\n'+('#' * 40) + '\\nExchange Credentials')\n",
    "for i in exchange_list:\n",
    "    user_input = input(f'Enter {i}: ')\n",
    "    kr.set_password(\"exchange_creds\", i, user_input)\n",
    "print('Exchange credentials stored successfully\\n'+('#' * 40))"
   ]
  },
  {
   "cell_type": "code",
   "execution_count": null,
   "metadata": {},
   "outputs": [],
   "source": [
    "# Storing the Telegram credentials:\n",
    "print('\\n'+('#' * 40) + '\\nTelegram Credentials')\n",
    "for i in telegram_list:\n",
    "    user_input = input(f'Enter {i}: ')\n",
    "    kr.set_password(\"telegram_creds\", i, user_input)\n",
    "print('Telegram credentials stored successfully\\n'+('#' * 40))"
   ]
  },
  {
   "cell_type": "code",
   "execution_count": null,
   "metadata": {},
   "outputs": [],
   "source": [
    "# Storing the SQL Database credentials:\n",
    "print('\\n'+('#' * 40) + '\\nSQL Database Credentials')\n",
    "for i in sql_list:\n",
    "    user_input = input(f'Enter {i}: ')\n",
    "    kr.set_password(\"sql_creds\", i, user_input)\n",
    "print('SQL Database credentials stored successfully\\n'+('#' * 40))"
   ]
  },
  {
   "cell_type": "code",
   "execution_count": null,
   "metadata": {},
   "outputs": [],
   "source": [
    "# Check the passwords if needed:\n",
    "for i in exchange_list:\n",
    "    print_check_password = lambda i: print(f\"Check your Exchange credentials '{i}': \", kr.get_password(\"exchange_creds\", i) if kr.get_password(\"exchange_creds\", i) is not None else \"no saved password\")\n",
    "    print_check_password(i)\n",
    "\n",
    "for i in telegram_list:\n",
    "    print_check_password = lambda i: print(f\"Check your Telegram credentials '{i}': \", kr.get_password(\"telegram_creds\", i) if kr.get_password(\"telegram_creds\", i) is not None else \"no saved password\")\n",
    "    print_check_password(i)\n",
    "    \n",
    "for i in sql_list:\n",
    "    print_check_password = lambda i: print(f\"Check your SQL Database credentials '{i}': \", kr.get_password(\"sql_creds\", i) if kr.get_password(\"sql_creds\", i) is not None else \"no saved password\")\n",
    "    print_check_password(i)"
   ]
  },
  {
   "cell_type": "code",
   "execution_count": null,
   "metadata": {},
   "outputs": [],
   "source": [
    "# Deleting the credentials if needed:\n",
    "try:\n",
    "\n",
    "    for i in exchange_list:\n",
    "        check_pass = kr.get_password(\"exchange_creds\", i)\n",
    "        if check_pass:\n",
    "            kr.delete_password(\"exchange_creds\", i)\n",
    "    print('\\n'+('#' * 40) +'\\nExchange credentials where deleted successfully')\n",
    "\n",
    "    for i in telegram_list:\n",
    "        check_pass = kr.get_password(\"telegram_creds\", i)\n",
    "        if check_pass:\n",
    "            kr.delete_password(\"telegram_creds\", i)\n",
    "    print('Telegram credentials where deleted successfully')\n",
    "\n",
    "    for i in sql_list:\n",
    "        check_pass = kr.get_password(\"sql_creds\", i)\n",
    "        if check_pass:\n",
    "            kr.delete_password(\"sql_creds\", i)\n",
    "    print('SQL Database credentials where deleted successfully'+'\\n'+('#' * 40))\n",
    "\n",
    "except Exception as e:\n",
    "    print(f'Failed to delete credentials, reason: {e}')\n",
    "    pass"
   ]
  }
 ],
 "metadata": {
  "kernelspec": {
   "display_name": ".main_venv",
   "language": "python",
   "name": "python3"
  },
  "language_info": {
   "codemirror_mode": {
    "name": "ipython",
    "version": 3
   },
   "file_extension": ".py",
   "mimetype": "text/x-python",
   "name": "python",
   "nbconvert_exporter": "python",
   "pygments_lexer": "ipython3",
   "version": "3.10.6"
  }
 },
 "nbformat": 4,
 "nbformat_minor": 2
}
