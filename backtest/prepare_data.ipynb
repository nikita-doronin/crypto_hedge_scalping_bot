{
 "cells": [
  {
   "cell_type": "markdown",
   "metadata": {},
   "source": [
    "### This script will concat the tick data and clean it for future backtest.\n",
    "\n",
    "You can download the the Monthly tick data directly from Binance:\\\n",
    "https://data.binance.vision/?prefix=data/futures/um/monthly/trades/\n",
    "\n",
    "Save downloaded data to:\\\n",
    "`/crypto_hedge_scalping_bot/backtest/raw_data`"
   ]
  },
  {
   "cell_type": "code",
   "execution_count": null,
   "metadata": {},
   "outputs": [],
   "source": [
    "import os\n",
    "import pandas as pd "
   ]
  },
  {
   "cell_type": "code",
   "execution_count": null,
   "metadata": {},
   "outputs": [],
   "source": [
    "\n",
    "# Get the path of the directory containing the currently running script:\n",
    "dir = os.getcwd()"
   ]
  },
  {
   "cell_type": "code",
   "execution_count": null,
   "metadata": {},
   "outputs": [],
   "source": [
    "data = pd.DataFrame()\n",
    "\n",
    "# Walk through the directory tree rooted at dir:\n",
    "for root, directories, files in os.walk(dir+f'/raw_data'):\n",
    "    # Iterate through each file in the current directory:\n",
    "    for filename in files:\n",
    "        # Construct the full path to the file:\n",
    "        file_path = os.path.join(root, filename)\n",
    "    \n",
    "        # Get the asset name:\n",
    "        path_parts = file_path.split('/')\n",
    "        # Get the last part of the path which contains the filename\n",
    "        filename = path_parts[-1]\n",
    "        # Extract the asset name from the filename\n",
    "        asset = filename.split('-')[0]\n",
    "\n",
    "        # Concat monthly data:\n",
    "        data_1 = pd.read_csv(file_path,usecols=[1,4]) \n",
    "        data_1.columns = ['price','time'] \n",
    "        data_1['time'] = pd.to_datetime(data_1['time'],unit='ms') \n",
    "        data_1['price'] = data_1['price'].astype('float32') \n",
    "        data = pd.concat([data,data_1])\n",
    "\n",
    "# Cleaning the data - delete duplicates in tick data, because we need the price, not the volume:\n",
    "data = data.sort_values(by='time')\n",
    "data = data.loc[data['price'].ne(data['price'].shift())]\n",
    "data.reset_index(drop=True,inplace=True)\n",
    "\n",
    "# Writing to feather format: \n",
    "data.reset_index(drop=True,inplace=True)\n",
    "data.to_feather(dir+f'/cleaned_data/{asset}.feather')"
   ]
  },
  {
   "cell_type": "code",
   "execution_count": null,
   "metadata": {},
   "outputs": [],
   "source": [
    "# Writing to other different formats if needed:\n",
    "# data.to_csv(dir+f'/cleaned_data/{asset}.csv',index=False) \n",
    "# data.to_parquet(dir+f'/cleaned_data/{asset}.parquet') \n",
    "# data.to_hdf(dir+f'/cleaned_data/{asset}.hdf',key='data')"
   ]
  },
  {
   "cell_type": "code",
   "execution_count": null,
   "metadata": {},
   "outputs": [],
   "source": [
    "# Double Check Data:\n",
    "check = pd.read_feather(dir+f'/cleaned_data/{asset}.feather') \n",
    "print(check.head()) \n",
    "print(check.tail(),'\\n')\n",
    "print(check.info())"
   ]
  }
 ],
 "metadata": {
  "kernelspec": {
   "display_name": ".main_venv",
   "language": "python",
   "name": "python3"
  },
  "language_info": {
   "codemirror_mode": {
    "name": "ipython",
    "version": 3
   },
   "file_extension": ".py",
   "mimetype": "text/x-python",
   "name": "python",
   "nbconvert_exporter": "python",
   "pygments_lexer": "ipython3",
   "version": "3.10.6"
  }
 },
 "nbformat": 4,
 "nbformat_minor": 2
}
